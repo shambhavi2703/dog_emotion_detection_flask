{
  "cells": [
    {
      "cell_type": "markdown",
      "metadata": {
        "id": "view-in-github",
        "colab_type": "text"
      },
      "source": [
        "<a href=\"https://colab.research.google.com/github/shambhavi2703/dog_emotion_detection_flask/blob/master/finalmodel.ipynb\" target=\"_parent\"><img src=\"https://colab.research.google.com/assets/colab-badge.svg\" alt=\"Open In Colab\"/></a>"
      ]
    },
    {
      "cell_type": "markdown",
      "source": [
        "<center><H1>MODEL FOR DOG EMOTION PREDICTION</H1></center>\n",
        "This notebook is about building a model for dog emotion recognition. The model building process involves several steps, including importing the dataset, preprocessing and splitting the data, experimenting with different architectures, training the model, and saving the model. Here are some details about each step:\n",
        "\n",
        "<h4><u>Importing the dataset:</h4></u> The dataset used in this project is obtained from Kaggle. The dataset contains images of dogs labeled with their corresponding emotions.\n",
        "\n",
        "<h4><u>Preprocessing and splitting the data:</h4></u> The dataset is preprocessed by resizing the images to a common size and normalizing the pixel values. The data is then split into training, validation, and test sets.\n",
        "\n",
        "<h4><u>Experimenting with different architectures: </h4></u>Several popular pre-trained deep learning models, such as ResNet50, and InceptionV3, are experimented with to determine the best architecture for the model.\n",
        "\n",
        "<h4><u>Training the model:</h4></u> The selected architecture is trained using the training data, and the performance of the model is evaluated using the validation data.\n",
        "\n"
      ],
      "metadata": {
        "id": "GeKbGobH17qj"
      }
    },
    {
      "cell_type": "code",
      "execution_count": null,
      "metadata": {
        "id": "_lN9hX6QYBxO"
      },
      "outputs": [],
      "source": [
        "import numpy as np\n",
        "from keras.models import Sequential\n",
        "from keras.layers import Dense, Dropout, Flatten\n",
        "from keras.layers import  Flatten, Dense, Dropout\n",
        "from keras.optimizers import Adam\n",
        "from keras.utils import np_utils\n",
        "from keras.preprocessing.image import ImageDataGenerator"
      ]
    },
    {
      "cell_type": "markdown",
      "source": [
        "<h3><u>IMPORTING DATASET <h3><u>"
      ],
      "metadata": {
        "id": "Dq3JlZWD33iT"
      }
    },
    {
      "cell_type": "code",
      "execution_count": null,
      "metadata": {
        "colab": {
          "base_uri": "https://localhost:8080/"
        },
        "id": "LnGXW7jCfWQC",
        "outputId": "b13fcf32-5e18-4292-e6ac-37bac588b95b"
      },
      "outputs": [
        {
          "output_type": "stream",
          "name": "stdout",
          "text": [
            "Looking in indexes: https://pypi.org/simple, https://us-python.pkg.dev/colab-wheels/public/simple/\n",
            "Requirement already satisfied: kaggle in /usr/local/lib/python3.9/dist-packages (1.5.13)\n",
            "Requirement already satisfied: certifi in /usr/local/lib/python3.9/dist-packages (from kaggle) (2022.12.7)\n",
            "Requirement already satisfied: python-dateutil in /usr/local/lib/python3.9/dist-packages (from kaggle) (2.8.2)\n",
            "Requirement already satisfied: urllib3 in /usr/local/lib/python3.9/dist-packages (from kaggle) (1.26.15)\n",
            "Requirement already satisfied: requests in /usr/local/lib/python3.9/dist-packages (from kaggle) (2.27.1)\n",
            "Requirement already satisfied: six>=1.10 in /usr/local/lib/python3.9/dist-packages (from kaggle) (1.16.0)\n",
            "Requirement already satisfied: tqdm in /usr/local/lib/python3.9/dist-packages (from kaggle) (4.65.0)\n",
            "Requirement already satisfied: python-slugify in /usr/local/lib/python3.9/dist-packages (from kaggle) (8.0.1)\n",
            "Requirement already satisfied: text-unidecode>=1.3 in /usr/local/lib/python3.9/dist-packages (from python-slugify->kaggle) (1.3)\n",
            "Requirement already satisfied: charset-normalizer~=2.0.0 in /usr/local/lib/python3.9/dist-packages (from requests->kaggle) (2.0.12)\n",
            "Requirement already satisfied: idna<4,>=2.5 in /usr/local/lib/python3.9/dist-packages (from requests->kaggle) (3.4)\n",
            "mkdir: cannot create directory ‘/root/.kaggle’: File exists\n",
            "Downloading dog-emotions-prediction.zip to /content\n",
            "100% 378M/379M [00:17<00:00, 24.3MB/s]\n",
            "100% 379M/379M [00:17<00:00, 22.5MB/s]\n"
          ]
        }
      ],
      "source": [
        "! pip install kaggle\n",
        "! mkdir ~/.kaggle\n",
        "! cp kaggle.json ~/.kaggle/\n",
        "! chmod 600 ~/.kaggle/kaggle.json\n",
        "! kaggle datasets download devzohaib/dog-emotions-prediction\n"
      ]
    },
    {
      "cell_type": "code",
      "execution_count": null,
      "metadata": {
        "id": "9gCCZWFAggQO"
      },
      "outputs": [],
      "source": [
        "! unzip dog-emotions-prediction"
      ]
    },
    {
      "cell_type": "code",
      "source": [
        "angry= 'images/angry/'\n",
        "sad = 'images/sad/'\n",
        "relaxed = 'images/relaxed/'\n",
        "happy = 'images/happy/'"
      ],
      "metadata": {
        "id": "NmLwxCORr4fy"
      },
      "execution_count": null,
      "outputs": []
    },
    {
      "cell_type": "code",
      "source": [
        "import os\n",
        "angry_path = os.listdir(angry)\n",
        "sad_path = os.listdir(sad)\n",
        "relaxed_path = os.listdir(relaxed)\n",
        "happy_path = os.listdir(happy)"
      ],
      "metadata": {
        "id": "ih-WBj3usAKS"
      },
      "execution_count": null,
      "outputs": []
    },
    {
      "cell_type": "code",
      "source": [
        "data_path =\"images\""
      ],
      "metadata": {
        "id": "duaWpGw1tZ_y"
      },
      "execution_count": null,
      "outputs": []
    },
    {
      "cell_type": "markdown",
      "source": [
        "<h3><u>SPLITTING AND PREPROCESSING</h3></u>\n",
        "Imported the ImageDataGenerator module from the Keras library for data augmentation and preprocessing\n",
        "\n",
        "Used the ImageDataGenerator function to set parameters for data augmentation and splitting for the dataset, such as horizontal flipping, rescaling, and a validation split of 20%\n",
        "\n",
        "Defined the train and val variables by calling the flow_from_directory function to load the images from the directory, set the target size, batch size, and class mode for both training and validation data\n",
        "\n",
        "\n"
      ],
      "metadata": {
        "id": "n_ulCEWa4AKZ"
      }
    },
    {
      "cell_type": "code",
      "source": [
        "db_gen =  ImageDataGenerator(horizontal_flip ='true',rescale=1./255, validation_split=0.2)"
      ],
      "metadata": {
        "id": "fXo51AmRtcyM"
      },
      "execution_count": null,
      "outputs": []
    },
    {
      "cell_type": "code",
      "source": [
        "train= db_gen.flow_from_directory(\n",
        "        'images',\n",
        "        class_mode=\"binary\",\n",
        "        target_size=(224,224),\n",
        "        batch_size=98\n",
        "     )"
      ],
      "metadata": {
        "colab": {
          "base_uri": "https://localhost:8080/"
        },
        "id": "Vlp9KWa6uqFT",
        "outputId": "d9b80c6b-a522-4f18-ecb7-f0dffb2ecd5c"
      },
      "execution_count": null,
      "outputs": [
        {
          "output_type": "stream",
          "name": "stdout",
          "text": [
            "Found 15921 images belonging to 4 classes.\n"
          ]
        }
      ]
    },
    {
      "cell_type": "code",
      "execution_count": null,
      "metadata": {
        "id": "yta5M6NE1kPx",
        "colab": {
          "base_uri": "https://localhost:8080/"
        },
        "outputId": "a40d409f-f67f-4dd1-e28b-4ea00662044b"
      },
      "outputs": [
        {
          "output_type": "stream",
          "name": "stdout",
          "text": [
            "Found 3182 images belonging to 4 classes.\n"
          ]
        }
      ],
      "source": [
        "val= db_gen.flow_from_directory('images',\n",
        "                                  class_mode=\"binary\",\n",
        "                                  target_size=(224, 224),\n",
        "                                  batch_size=98,\n",
        "                                  subset=\"validation\"\n",
        "                                    )"
      ]
    },
    {
      "cell_type": "markdown",
      "source": [
        "<h3><u>Model Building</h3></u>\n",
        "\n",
        "> Indented block\n",
        "\n",
        "\n",
        "\n",
        "This code block imports the InceptionV3 model from the Keras applications module, which has been pre-trained on the ImageNet dataset.\n",
        "\n",
        "The model is then modified by adding a flatten layer and a dense layer with a sigmoid activation function.\n",
        "\n",
        "The layers of the InceptionV3 model are set to be non-trainable,here we are freezing the weights of the pre-trained InceptionV3 model so that they are not updated during training of the entire model.The model It is compiled with sparse categorical cross-entropy loss function, the Adam optimizer, and accuracy as the evaluation metric.\n",
        "\n",
        "<h3><u>InceptionV3 Architecture</h3></u>\n",
        "<img src=\"https://production-media.paperswithcode.com/methods/inceptionv3onc--oview_vjAbOfw.png\">"
      ],
      "metadata": {
        "id": "2aWSVsEt5IH2"
      }
    },
    {
      "cell_type": "code",
      "execution_count": null,
      "metadata": {
        "id": "D3a9g4tLhSbC",
        "colab": {
          "base_uri": "https://localhost:8080/"
        },
        "outputId": "04e50e67-00cb-4950-cc53-1af2c43fce45"
      },
      "outputs": [
        {
          "output_type": "stream",
          "name": "stdout",
          "text": [
            "Downloading data from https://storage.googleapis.com/tensorflow/keras-applications/inception_v3/inception_v3_weights_tf_dim_ordering_tf_kernels_notop.h5\n",
            "87910968/87910968 [==============================] - 5s 0us/step\n"
          ]
        }
      ],
      "source": [
        "from tensorflow.keras.applications.inception_v3 import InceptionV3\n",
        "\n",
        "model = InceptionV3(weights=\"imagenet\", include_top=False, input_shape=(224, 224, 3))\n",
        "\n"
      ]
    },
    {
      "cell_type": "code",
      "execution_count": null,
      "metadata": {
        "id": "K2iMaNawtprm"
      },
      "outputs": [],
      "source": [
        "model = Sequential([model,\n",
        "                    Flatten(),\n",
        "                    Dense(4, activation=\"sigmoid\")])\n"
      ]
    },
    {
      "cell_type": "code",
      "execution_count": null,
      "metadata": {
        "id": "_XenvPHbGK5Q"
      },
      "outputs": [],
      "source": [
        "model.layers[0].trainable = False"
      ]
    },
    {
      "cell_type": "code",
      "execution_count": null,
      "metadata": {
        "id": "i3gBmv6pt2_n"
      },
      "outputs": [],
      "source": [
        "model.compile(loss=\"sparse_categorical_crossentropy\", optimizer=\"adam\", metrics=[\"accuracy\"])\n",
        "\n"
      ]
    },
    {
      "cell_type": "code",
      "execution_count": null,
      "metadata": {
        "colab": {
          "base_uri": "https://localhost:8080/"
        },
        "id": "dBjjcz6G1wez",
        "outputId": "0b16d6e1-3d3e-478b-d72a-07730783b8de"
      },
      "outputs": [
        {
          "output_type": "stream",
          "name": "stdout",
          "text": [
            "Model: \"sequential\"\n",
            "_________________________________________________________________\n",
            " Layer (type)                Output Shape              Param #   \n",
            "=================================================================\n",
            " inception_v3 (Functional)   (None, 5, 5, 2048)        21802784  \n",
            "                                                                 \n",
            " flatten (Flatten)           (None, 51200)             0         \n",
            "                                                                 \n",
            " dense (Dense)               (None, 4)                 204804    \n",
            "                                                                 \n",
            "=================================================================\n",
            "Total params: 22,007,588\n",
            "Trainable params: 204,804\n",
            "Non-trainable params: 21,802,784\n",
            "_________________________________________________________________\n"
          ]
        }
      ],
      "source": [
        "model.summary()"
      ]
    },
    {
      "cell_type": "code",
      "execution_count": null,
      "metadata": {
        "colab": {
          "base_uri": "https://localhost:8080/"
        },
        "id": "XIk_7AMwhAhO",
        "outputId": "251f8644-a4bb-4f81-a28b-c16d794e73d0"
      },
      "outputs": [
        {
          "output_type": "stream",
          "name": "stdout",
          "text": [
            "Epoch 1/10\n",
            "163/163 [==============================] - 131s 688ms/step - loss: 3.4996 - accuracy: 0.3896 - val_loss: 2.4167 - val_accuracy: 0.3837\n",
            "Epoch 2/10\n",
            "163/163 [==============================] - 120s 739ms/step - loss: 2.3986 - accuracy: 0.4644 - val_loss: 2.4861 - val_accuracy: 0.5091\n",
            "Epoch 3/10\n",
            "163/163 [==============================] - 99s 608ms/step - loss: 2.0727 - accuracy: 0.5141 - val_loss: 1.6883 - val_accuracy: 0.5644\n",
            "Epoch 4/10\n",
            "163/163 [==============================] - 89s 548ms/step - loss: 1.9856 - accuracy: 0.5385 - val_loss: 1.4471 - val_accuracy: 0.6075\n",
            "Epoch 5/10\n",
            "163/163 [==============================] - 102s 624ms/step - loss: 2.0667 - accuracy: 0.5520 - val_loss: 1.3866 - val_accuracy: 0.6389\n",
            "Epoch 6/10\n",
            "163/163 [==============================] - 100s 615ms/step - loss: 1.7264 - accuracy: 0.5929 - val_loss: 2.1673 - val_accuracy: 0.5519\n",
            "Epoch 7/10\n",
            "163/163 [==============================] - 94s 574ms/step - loss: 1.6303 - accuracy: 0.6103 - val_loss: 1.4089 - val_accuracy: 0.6213\n",
            "Epoch 8/10\n",
            "163/163 [==============================] - 91s 559ms/step - loss: 1.6527 - accuracy: 0.6132 - val_loss: 1.6533 - val_accuracy: 0.6358\n",
            "Epoch 9/10\n",
            "163/163 [==============================] - 94s 576ms/step - loss: 1.5806 - accuracy: 0.6324 - val_loss: 1.3996 - val_accuracy: 0.6672\n",
            "Epoch 10/10\n",
            "163/163 [==============================] - 93s 572ms/step - loss: 1.5673 - accuracy: 0.6480 - val_loss: 1.5426 - val_accuracy: 0.6675\n"
          ]
        }
      ],
      "source": [
        "hist = model.fit(train,\n",
        "                epochs=10,\n",
        "                validation_data=val)"
      ]
    },
    {
      "cell_type": "markdown",
      "source": [
        "To improve the accuracy of our model, we are going to clone the original model and increase the number of epochs. By doing so, we can test if increasing the number of epochs results in a higher accuracy. This process is known as fine-tuning, where we take a pre-trained model and train it on our specific dataset to improve its performance."
      ],
      "metadata": {
        "id": "-hHyBE7J-pAt"
      }
    },
    {
      "cell_type": "code",
      "source": [
        "from tensorflow.keras.models import clone_model\n",
        "\n",
        "# Clone the model\n",
        "model2 = clone_model(model)\n",
        "\n",
        "# Compile the new model\n",
        "model2.compile(loss=\"sparse_categorical_crossentropy\", optimizer=\"adam\", metrics=[\"accuracy\"])"
      ],
      "metadata": {
        "id": "ANaEj0K0-Pyd"
      },
      "execution_count": null,
      "outputs": []
    },
    {
      "cell_type": "code",
      "source": [
        "hist = model.fit(train,\n",
        "                epochs=8,\n",
        "                validation_data=val)"
      ],
      "metadata": {
        "id": "ZNDYspLX-cZV",
        "outputId": "b880e6c2-c657-4335-e450-74fe31818dfa",
        "colab": {
          "base_uri": "https://localhost:8080/"
        }
      },
      "execution_count": null,
      "outputs": [
        {
          "output_type": "stream",
          "name": "stdout",
          "text": [
            "Epoch 1/8\n",
            "163/163 [==============================] - 90s 553ms/step - loss: 1.1684 - accuracy: 0.7290 - val_loss: 0.6149 - val_accuracy: 0.8187\n",
            "Epoch 2/8\n",
            "163/163 [==============================] - 90s 552ms/step - loss: 1.0255 - accuracy: 0.7573 - val_loss: 1.1029 - val_accuracy: 0.7291\n",
            "Epoch 3/8\n",
            "163/163 [==============================] - 89s 549ms/step - loss: 0.9538 - accuracy: 0.7658 - val_loss: 0.6873 - val_accuracy: 0.8111\n",
            "Epoch 4/8\n",
            "163/163 [==============================] - 89s 549ms/step - loss: 0.8595 - accuracy: 0.7846 - val_loss: 0.7232 - val_accuracy: 0.8055\n",
            "Epoch 5/8\n",
            "163/163 [==============================] - 89s 547ms/step - loss: 0.8479 - accuracy: 0.7797 - val_loss: 0.6015 - val_accuracy: 0.8341\n",
            "Epoch 6/8\n",
            "163/163 [==============================] - 90s 554ms/step - loss: 0.9313 - accuracy: 0.7734 - val_loss: 0.6127 - val_accuracy: 0.8363\n",
            "Epoch 7/8\n",
            "163/163 [==============================] - 88s 538ms/step - loss: 0.9873 - accuracy: 0.7671 - val_loss: 0.7610 - val_accuracy: 0.7926\n",
            "Epoch 8/8\n",
            "163/163 [==============================] - 89s 547ms/step - loss: 0.8655 - accuracy: 0.7885 - val_loss: 0.4929 - val_accuracy: 0.8554\n"
          ]
        }
      ]
    },
    {
      "cell_type": "markdown",
      "source": [
        "We were able to achieve a val accuracy of 85% , which is pretty decent ."
      ],
      "metadata": {
        "id": "6hpNwXV6F4mR"
      }
    },
    {
      "cell_type": "code",
      "execution_count": null,
      "metadata": {
        "colab": {
          "base_uri": "https://localhost:8080/",
          "height": 454
        },
        "id": "8sSxE90s1-0g",
        "outputId": "01876981-f415-4e4e-f0f9-3fe75ce59c04"
      },
      "outputs": [
        {
          "output_type": "display_data",
          "data": {
            "text/plain": [
              "<Figure size 640x480 with 1 Axes>"
            ],
            "image/png": "[encoded data removed]"
          },
          "metadata": {}
        }
      ],
      "source": [
        "import matplotlib.pyplot as plt\n",
        "\n",
        "# Get the training history\n",
        "history = hist.history\n",
        "\n",
        "# Plot the training and validation loss curves\n",
        "plt.plot(history['loss'], label='Training Loss')\n",
        "plt.plot(history['val_loss'], label='Validation Loss')\n",
        "\n",
        "# Add axis labels and legend\n",
        "plt.xlabel('Epoch')\n",
        "plt.ylabel('Loss')\n",
        "plt.legend()\n",
        "\n",
        "# Show the plot\n",
        "plt.show()\n",
        "\n"
      ]
    },
    {
      "cell_type": "code",
      "source": [],
      "metadata": {
        "id": "4w91ze3R6k-E"
      },
      "execution_count": null,
      "outputs": []
    },
    {
      "cell_type": "code",
      "source": [
        "from tensorflow.keras.models import save_model\n",
        "\n",
        "# Save the entire model\n",
        "save_model(model, 'model.h5')"
      ],
      "metadata": {
        "id": "YWoiKjG09Y_M"
      },
      "execution_count": null,
      "outputs": []
    },
    {
      "cell_type": "code",
      "source": [
        "from tensorflow.keras.models import save_model\n",
        "\n",
        "# Save the entire model\n",
        "save_model(model, 'model2.h5')"
      ],
      "metadata": {
        "id": "KYRMpOtSGGRr"
      },
      "execution_count": null,
      "outputs": []
    },
    {
      "cell_type": "code",
      "source": [
        "from tensorflow.keras.models import save_model\n",
        "\n",
        "# Save the entire model\n",
        "save_model(model, 'C:/Users/shamb/OneDrive/Desktop/dog emotions/model.h5')\n"
      ],
      "metadata": {
        "id": "J5nDPrZwCW7V"
      },
      "execution_count": null,
      "outputs": []
    },
    {
      "cell_type": "code",
      "source": [
        "# Save the entire model\n",
        "save_model(model, 'C:/Users/shamb/OneDrive/Desktop/dog emotions/model2.h5')"
      ],
      "metadata": {
        "id": "HlExUX7LGNEf"
      },
      "execution_count": null,
      "outputs": []
    },
    {
      "cell_type": "markdown",
      "source": [
        "<h3><u>CALLING THE MODEL TO MAKE PREDICTION<h3><u>"
      ],
      "metadata": {
        "id": "1N4NYzAI93kP"
      }
    },
    {
      "cell_type": "code",
      "execution_count": null,
      "metadata": {
        "id": "azDjr2KX6PCN"
      },
      "outputs": [],
      "source": [
        "from tensorflow.keras.models import load_model\n",
        "# Load the saved model\n",
        "model = load_model('model2.h5')\n",
        "\n",
        "\n",
        "\n"
      ]
    },
    {
      "cell_type": "code",
      "source": [
        "# Ask user to upload image file\n",
        "from google.colab import files\n",
        "uploaded_file = files.upload()"
      ],
      "metadata": {
        "id": "Dl8gN6HF8S22",
        "outputId": "271cc740-8ec0-4cf0-bf11-7af1fc9df6a3",
        "colab": {
          "base_uri": "https://localhost:8080/",
          "height": 73
        }
      },
      "execution_count": null,
      "outputs": [
        {
          "output_type": "display_data",
          "data": {
            "text/plain": [
              "<IPython.core.display.HTML object>"
            ],
            "text/html": [
              "\n",
              "     <input type=\"file\" id=\"files-c6a24537-71a3-4ac6-b948-ad444e09251f\" name=\"files[]\" multiple disabled\n",
              "        style=\"border:none\" />\n",
              "     <output id=\"result-c6a24537-71a3-4ac6-b948-ad444e09251f\">\n",
              "      Upload widget is only available when the cell has been executed in the\n",
              "      current browser session. Please rerun this cell to enable.\n",
              "      </output>\n",
              "      <script>// Copyright 2017 Google LLC\n",
              "//\n",
              "// Licensed under the Apache License, Version 2.0 (the \"License\");\n",
              "// you may not use this file except in compliance with the License.\n",
              "// You may obtain a copy of the License at\n",
              "//\n",
              "//      http://www.apache.org/licenses/LICENSE-2.0\n",
              "//\n",
              "// Unless required by applicable law or agreed to in writing, software\n",
              "// distributed under the License is distributed on an \"AS IS\" BASIS,\n",
              "// WITHOUT WARRANTIES OR CONDITIONS OF ANY KIND, either express or implied.\n",
              "// See the License for the specific language governing permissions and\n",
              "// limitations under the License.\n",
              "\n",
              "/**\n",
              " * @fileoverview Helpers for google.colab Python module.\n",
              " */\n",
              "(function(scope) {\n",
              "function span(text, styleAttributes = {}) {\n",
              "  const element = document.createElement('span');\n",
              "  element.textContent = text;\n",
              "  for (const key of Object.keys(styleAttributes)) {\n",
              "    element.style[key] = styleAttributes[key];\n",
              "  }\n",
              "  return element;\n",
              "}\n",
              "\n",
              "// Max number of bytes which will be uploaded at a time.\n",
              "const MAX_PAYLOAD_SIZE = 100 * 1024;\n",
              "\n",
              "function _uploadFiles(inputId, outputId) {\n",
              "  const steps = uploadFilesStep(inputId, outputId);\n",
              "  const outputElement = document.getElementById(outputId);\n",
              "  // Cache steps on the outputElement to make it available for the next call\n",
              "  // to uploadFilesContinue from Python.\n",
              "  outputElement.steps = steps;\n",
              "\n",
              "  return _uploadFilesContinue(outputId);\n",
              "}\n",
              "\n",
              "// This is roughly an async generator (not supported in the browser yet),\n",
              "// where there are multiple asynchronous steps and the Python side is going\n",
              "// to poll for completion of each step.\n",
              "// This uses a Promise to block the python side on completion of each step,\n",
              "// then passes the result of the previous step as the input to the next step.\n",
              "function _uploadFilesContinue(outputId) {\n",
              "  const outputElement = document.getElementById(outputId);\n",
              "  const steps = outputElement.steps;\n",
              "\n",
              "  const next = steps.next(outputElement.lastPromiseValue);\n",
              "  return Promise.resolve(next.value.promise).then((value) => {\n",
              "    // Cache the last promise value to make it available to the next\n",
              "    // step of the generator.\n",
              "    outputElement.lastPromiseValue = value;\n",
              "    return next.value.response;\n",
              "  });\n",
              "}\n",
              "\n",
              "/**\n",
              " * Generator function which is called between each async step of the upload\n",
              " * process.\n",
              " * @param {string} inputId Element ID of the input file picker element.\n",
              " * @param {string} outputId Element ID of the output display.\n",
              " * @return {!Iterable<!Object>} Iterable of next steps.\n",
              " */\n",
              "function* uploadFilesStep(inputId, outputId) {\n",
              "  const inputElement = document.getElementById(inputId);\n",
              "  inputElement.disabled = false;\n",
              "\n",
              "  const outputElement = document.getElementById(outputId);\n",
              "  outputElement.innerHTML = '';\n",
              "\n",
              "  const pickedPromise = new Promise((resolve) => {\n",
              "    inputElement.addEventListener('change', (e) => {\n",
              "      resolve(e.target.files);\n",
              "    });\n",
              "  });\n",
              "\n",
              "  const cancel = document.createElement('button');\n",
              "  inputElement.parentElement.appendChild(cancel);\n",
              "  cancel.textContent = 'Cancel upload';\n",
              "  const cancelPromise = new Promise((resolve) => {\n",
              "    cancel.onclick = () => {\n",
              "      resolve(null);\n",
              "    };\n",
              "  });\n",
              "\n",
              "  // Wait for the user to pick the files.\n",
              "  const files = yield {\n",
              "    promise: Promise.race([pickedPromise, cancelPromise]),\n",
              "    response: {\n",
              "      action: 'starting',\n",
              "    }\n",
              "  };\n",
              "\n",
              "  cancel.remove();\n",
              "\n",
              "  // Disable the input element since further picks are not allowed.\n",
              "  inputElement.disabled = true;\n",
              "\n",
              "  if (!files) {\n",
              "    return {\n",
              "      response: {\n",
              "        action: 'complete',\n",
              "      }\n",
              "    };\n",
              "  }\n",
              "\n",
              "  for (const file of files) {\n",
              "    const li = document.createElement('li');\n",
              "    li.append(span(file.name, {fontWeight: 'bold'}));\n",
              "    li.append(span(\n",
              "        `(${file.type || 'n/a'}) - ${file.size} bytes, ` +\n",
              "        `last modified: ${\n",
              "            file.lastModifiedDate ? file.lastModifiedDate.toLocaleDateString() :\n",
              "                                    'n/a'} - `));\n",
              "    const percent = span('0% done');\n",
              "    li.appendChild(percent);\n",
              "\n",
              "    outputElement.appendChild(li);\n",
              "\n",
              "    const fileDataPromise = new Promise((resolve) => {\n",
              "      const reader = new FileReader();\n",
              "      reader.onload = (e) => {\n",
              "        resolve(e.target.result);\n",
              "      };\n",
              "      reader.readAsArrayBuffer(file);\n",
              "    });\n",
              "    // Wait for the data to be ready.\n",
              "    let fileData = yield {\n",
              "      promise: fileDataPromise,\n",
              "      response: {\n",
              "        action: 'continue',\n",
              "      }\n",
              "    };\n",
              "\n",
              "    // Use a chunked sending to avoid message size limits. See b/62115660.\n",
              "    let position = 0;\n",
              "    do {\n",
              "      const length = Math.min(fileData.byteLength - position, MAX_PAYLOAD_SIZE);\n",
              "      const chunk = new Uint8Array(fileData, position, length);\n",
              "      position += length;\n",
              "\n",
              "      const base64 = btoa(String.fromCharCode.apply(null, chunk));\n",
              "      yield {\n",
              "        response: {\n",
              "          action: 'append',\n",
              "          file: file.name,\n",
              "          data: base64,\n",
              "        },\n",
              "      };\n",
              "\n",
              "      let percentDone = fileData.byteLength === 0 ?\n",
              "          100 :\n",
              "          Math.round((position / fileData.byteLength) * 100);\n",
              "      percent.textContent = `${percentDone}% done`;\n",
              "\n",
              "    } while (position < fileData.byteLength);\n",
              "  }\n",
              "\n",
              "  // All done.\n",
              "  yield {\n",
              "    response: {\n",
              "      action: 'complete',\n",
              "    }\n",
              "  };\n",
              "}\n",
              "\n",
              "scope.google = scope.google || {};\n",
              "scope.google.colab = scope.google.colab || {};\n",
              "scope.google.colab._files = {\n",
              "  _uploadFiles,\n",
              "  _uploadFilesContinue,\n",
              "};\n",
              "})(self);\n",
              "</script> "
            ]
          },
          "metadata": {}
        },
        {
          "output_type": "stream",
          "name": "stdout",
          "text": [
            "Saving testcase.jpg to testcase (1).jpg\n"
          ]
        }
      ]
    },
    {
      "cell_type": "code",
      "execution_count": null,
      "metadata": {
        "id": "LKlwe5ebosex",
        "outputId": "f7f8c348-8c3d-4667-f43c-0ff70f148281",
        "colab": {
          "base_uri": "https://localhost:8080/",
          "height": 36
        }
      },
      "outputs": [
        {
          "output_type": "execute_result",
          "data": {
            "text/plain": [
              "'testcase.jpg'"
            ],
            "application/vnd.google.colaboratory.intrinsic+json": {
              "type": "string"
            }
          },
          "metadata": {},
          "execution_count": 58
        }
      ],
      "source": [
        "\n",
        "# Get the file name of the uploaded image\n",
        "import io\n",
        "filename = list(uploaded_file.keys())[0]\n",
        "filename"
      ]
    },
    {
      "cell_type": "code",
      "source": [
        "# Read the image file and convert to numpy array\n",
        "from PIL import Image\n",
        "\n",
        "img = Image.open(io.BytesIO(uploaded_file[filename]))\n",
        "img = img.resize((224,224))\n",
        "img_array = np.array(img)/255."
      ],
      "metadata": {
        "id": "1G2oD58X9B0_"
      },
      "execution_count": null,
      "outputs": []
    },
    {
      "cell_type": "code",
      "source": [
        "# Make prediction on the image\n",
        "prediction = model.predict(np.expand_dims(img_array, axis=0))"
      ],
      "metadata": {
        "id": "ToJMpNFb9OLE",
        "outputId": "ca559b47-c436-44f2-fcbf-5fa5131724b4",
        "colab": {
          "base_uri": "https://localhost:8080/"
        }
      },
      "execution_count": null,
      "outputs": [
        {
          "output_type": "stream",
          "name": "stdout",
          "text": [
            "1/1 [==============================] - 0s 27ms/step\n"
          ]
        }
      ]
    },
    {
      "cell_type": "code",
      "source": [
        "class_names = ['angry', 'sad','relaxed','happy']\n",
        "\n"
      ],
      "metadata": {
        "id": "ylls6EWl9ftD"
      },
      "execution_count": null,
      "outputs": []
    },
    {
      "cell_type": "code",
      "source": [
        "# Get the predicted class index\n",
        "predicted_class = np.argmax(prediction)"
      ],
      "metadata": {
        "id": "O6rDWC4Q9O1G"
      },
      "execution_count": null,
      "outputs": []
    },
    {
      "cell_type": "code",
      "source": [
        "# Print the predicted class label\n",
        "print(f\"Predicted class: {class_names[predicted_class]}\")"
      ],
      "metadata": {
        "id": "-KxfknR69U49",
        "outputId": "261cd4a7-ab89-47e3-bfb5-7b54131f4ab8",
        "colab": {
          "base_uri": "https://localhost:8080/"
        }
      },
      "execution_count": null,
      "outputs": [
        {
          "output_type": "stream",
          "name": "stdout",
          "text": [
            "Predicted class: angry\n"
          ]
        }
      ]
    }
  ],
  "metadata": {
    "colab": {
      "provenance": [],
      "include_colab_link": true
    },
    "gpuClass": "standard",
    "kernelspec": {
      "display_name": "Python 3",
      "name": "python3"
    },
    "language_info": {
      "name": "python"
    },
    "accelerator": "GPU"
  },
  "nbformat": 4,
  "nbformat_minor": 0
}